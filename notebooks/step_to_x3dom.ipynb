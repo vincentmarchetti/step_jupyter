{
 "cells": [
  {
   "cell_type": "markdown",
   "metadata": {},
   "source": [
    "\n",
    "\n",
    "\n",
    "These are example URLs for STEP AP203 files. Copy and paste into the source_url variable below.\n",
    "\n",
    "\n",
    "* http://spri.kshell.com/alpha/step/rp0rtzkt0y4x\n",
    "\n",
    "* https://spri-open-resources.s3.us-east-2.amazonaws.com/nist_ctc_02_asme1_ap203.stp"
   ]
  },
  {
   "cell_type": "code",
   "execution_count": null,
   "metadata": {},
   "outputs": [],
   "source": [
    "source_url = \"https://spri-open-resources.s3.us-east-2.amazonaws.com/nist_ctc_02_asme1_ap203.stp\"\n",
    "\n"
   ]
  },
  {
   "cell_type": "code",
   "execution_count": null,
   "metadata": {},
   "outputs": [],
   "source": [
    "from urllib.request import urlopen\n",
    "from tempfile import mkstemp\n",
    "from os import fdopen, close\n",
    "\n",
    "\n",
    "tempno, tempname = mkstemp(suffix=\".stp\")\n",
    "with fdopen(tempno, mode=\"wb\") as outp:\n",
    "    with urlopen(source_url) as resp:\n",
    "        data = resp.read()\n",
    "        print(\"read %i bytes from HTTP response body\" % len(data))\n",
    "        print(repr(data[:64]))\n",
    "    outp.write(data)\n",
    "\n",
    "print(\"url %s copied to %s\" % (source_url,tempname))"
   ]
  },
  {
   "cell_type": "code",
   "execution_count": null,
   "metadata": {},
   "outputs": [],
   "source": [
    "from OCC.Extend.DataExchange import read_step_file\n",
    "from OCC.Display.WebGl.x3dom_renderer import X3DExporter"
   ]
  },
  {
   "cell_type": "code",
   "execution_count": null,
   "metadata": {},
   "outputs": [],
   "source": [
    "shp = read_step_file(tempname)\n",
    "print(\"contents of STEP file read to generate OpenCascade instance: %s\" % repr(shp))\n"
   ]
  },
  {
   "cell_type": "code",
   "execution_count": null,
   "metadata": {},
   "outputs": [],
   "source": [
    "x3dexp = X3DExporter(shp, None, None, True, (1,1,0), (0,0,0), 0, 0, (0,0,0), 2, 1)\n",
    "x3dexp.compute()\n",
    "x3dtriangles=x3dexp.to_x3dfile_string(0)"
   ]
  },
  {
   "cell_type": "code",
   "execution_count": null,
   "metadata": {},
   "outputs": [],
   "source": [
    "x3domHTML = '''<script type='text/javascript' src='https://www.x3dom.org/download/dev/x3dom-full.debug.js'> </script> \n",
    "<link rel='stylesheet' type='text/css' href='https://www.x3dom.org/download/dev/x3dom.css'></link>'''"
   ]
  },
  {
   "cell_type": "code",
   "execution_count": null,
   "metadata": {},
   "outputs": [],
   "source": [
    "import xml.etree.ElementTree as ET"
   ]
  },
  {
   "cell_type": "code",
   "execution_count": null,
   "metadata": {},
   "outputs": [],
   "source": [
    "from IPython.display import HTML"
   ]
  },
  {
   "cell_type": "code",
   "execution_count": null,
   "metadata": {},
   "outputs": [],
   "source": [
    "x3domX3Dtriangles = ET.tostring(ET.XML(x3dtriangles), encoding=\"unicode\", short_empty_elements=False)"
   ]
  },
  {
   "cell_type": "code",
   "execution_count": null,
   "metadata": {},
   "outputs": [],
   "source": [
    "HTML(x3domHTML + x3domX3Dtriangles)"
   ]
  }
 ],
 "metadata": {
  "kernelspec": {
   "display_name": "Python 3",
   "language": "python",
   "name": "python3"
  },
  "language_info": {
   "codemirror_mode": {
    "name": "ipython",
    "version": 3
   },
   "file_extension": ".py",
   "mimetype": "text/x-python",
   "name": "python",
   "nbconvert_exporter": "python",
   "pygments_lexer": "ipython3",
   "version": "3.7.5"
  }
 },
 "nbformat": 4,
 "nbformat_minor": 4
}
